{
 "cells": [
  {
   "cell_type": "code",
   "execution_count": 19,
   "metadata": {},
   "outputs": [],
   "source": [
    "import pandas as pd\n",
    "import spacy \n",
    "import numpy as np\n",
    "seed = 1984\n",
    "nlp = spacy.load(\"en_core_web_sm\")"
   ]
  },
  {
   "cell_type": "code",
   "execution_count": 3,
   "metadata": {},
   "outputs": [
    {
     "data": {
      "application/vnd.microsoft.datawrangler.viewer.v0+json": {
       "columns": [
        {
         "name": "index",
         "rawType": "int64",
         "type": "integer"
        },
        {
         "name": "AGORA ID",
         "rawType": "int64",
         "type": "integer"
        },
        {
         "name": "Official name",
         "rawType": "object",
         "type": "string"
        },
        {
         "name": "Casual name",
         "rawType": "object",
         "type": "string"
        },
        {
         "name": "Link to document",
         "rawType": "object",
         "type": "string"
        },
        {
         "name": "Authority",
         "rawType": "object",
         "type": "string"
        },
        {
         "name": "Collections",
         "rawType": "object",
         "type": "string"
        },
        {
         "name": "Most recent activity",
         "rawType": "object",
         "type": "string"
        },
        {
         "name": "Most recent activity date",
         "rawType": "object",
         "type": "string"
        },
        {
         "name": "Proposed date",
         "rawType": "object",
         "type": "unknown"
        },
        {
         "name": "Annotated?",
         "rawType": "bool",
         "type": "boolean"
        },
        {
         "name": "Validated?",
         "rawType": "bool",
         "type": "boolean"
        },
        {
         "name": "Primarily applies to the government",
         "rawType": "bool",
         "type": "boolean"
        },
        {
         "name": "Primarily applies to the private sector",
         "rawType": "bool",
         "type": "boolean"
        },
        {
         "name": "Short summary",
         "rawType": "object",
         "type": "string"
        },
        {
         "name": "Long summary",
         "rawType": "object",
         "type": "string"
        },
        {
         "name": "Tags",
         "rawType": "object",
         "type": "unknown"
        },
        {
         "name": "Summaries and tags may include unreviewed machine output",
         "rawType": "bool",
         "type": "boolean"
        },
        {
         "name": "Official plaintext retrieved",
         "rawType": "object",
         "type": "string"
        },
        {
         "name": "Official plaintext source",
         "rawType": "object",
         "type": "string"
        },
        {
         "name": "Official plaintext unavailable/infeasible",
         "rawType": "bool",
         "type": "boolean"
        },
        {
         "name": "Official pdf source",
         "rawType": "object",
         "type": "unknown"
        },
        {
         "name": "Official pdf retrieved",
         "rawType": "object",
         "type": "unknown"
        },
        {
         "name": "Number of segments created",
         "rawType": "int64",
         "type": "integer"
        },
        {
         "name": "Applications: Agriculture and resource extraction",
         "rawType": "bool",
         "type": "boolean"
        },
        {
         "name": "Applications: Arts, sports, leisure, travel, and lifestyle",
         "rawType": "bool",
         "type": "boolean"
        },
        {
         "name": "Applications: Broadcasting and media production",
         "rawType": "bool",
         "type": "boolean"
        },
        {
         "name": "Applications: Business services and analytics",
         "rawType": "bool",
         "type": "boolean"
        },
        {
         "name": "Applications: Construction and field services",
         "rawType": "bool",
         "type": "boolean"
        },
        {
         "name": "Applications: Consumer goods",
         "rawType": "bool",
         "type": "boolean"
        },
        {
         "name": "Applications: Education",
         "rawType": "bool",
         "type": "boolean"
        },
        {
         "name": "Applications: Energy and utilities",
         "rawType": "bool",
         "type": "boolean"
        },
        {
         "name": "Applications: Finance and investment",
         "rawType": "bool",
         "type": "boolean"
        },
        {
         "name": "Applications: Government: benefits and welfare",
         "rawType": "bool",
         "type": "boolean"
        },
        {
         "name": "Applications: Government: judicial and law enforcement",
         "rawType": "bool",
         "type": "boolean"
        },
        {
         "name": "Applications: Government: military and public safety",
         "rawType": "bool",
         "type": "boolean"
        },
        {
         "name": "Applications: Government: other applications/unspecified",
         "rawType": "bool",
         "type": "boolean"
        },
        {
         "name": "Applications: Manufacturing and process automation",
         "rawType": "bool",
         "type": "boolean"
        },
        {
         "name": "Applications: Medicine, life sciences and public health",
         "rawType": "bool",
         "type": "boolean"
        },
        {
         "name": "Applications: Networking and telecommunications",
         "rawType": "bool",
         "type": "boolean"
        },
        {
         "name": "Applications: Sales, retail, and customer relations",
         "rawType": "bool",
         "type": "boolean"
        },
        {
         "name": "Applications: Security",
         "rawType": "bool",
         "type": "boolean"
        },
        {
         "name": "Applications: Transportation",
         "rawType": "bool",
         "type": "boolean"
        },
        {
         "name": "Harms: Detrimental content",
         "rawType": "bool",
         "type": "boolean"
        },
        {
         "name": "Harms: Discrimination",
         "rawType": "bool",
         "type": "boolean"
        },
        {
         "name": "Harms: Ecological harm",
         "rawType": "bool",
         "type": "boolean"
        },
        {
         "name": "Harms: Financial loss",
         "rawType": "bool",
         "type": "boolean"
        },
        {
         "name": "Harms: Harm to health/safety",
         "rawType": "bool",
         "type": "boolean"
        },
        {
         "name": "Harms: Harm to infrastructure",
         "rawType": "bool",
         "type": "boolean"
        },
        {
         "name": "Harms: Harm to property",
         "rawType": "bool",
         "type": "boolean"
        },
        {
         "name": "Harms: Violation of civil or human rights, including privacy",
         "rawType": "bool",
         "type": "boolean"
        },
        {
         "name": "Incentives: Access to business opportunities",
         "rawType": "bool",
         "type": "boolean"
        },
        {
         "name": "Incentives: Civil liability",
         "rawType": "bool",
         "type": "boolean"
        },
        {
         "name": "Incentives: Criminal liability",
         "rawType": "bool",
         "type": "boolean"
        },
        {
         "name": "Incentives: Fines",
         "rawType": "bool",
         "type": "boolean"
        },
        {
         "name": "Incentives: Imprisonment",
         "rawType": "bool",
         "type": "boolean"
        },
        {
         "name": "Incentives: Subsidies",
         "rawType": "bool",
         "type": "boolean"
        },
        {
         "name": "Risk factors: Bias",
         "rawType": "bool",
         "type": "boolean"
        },
        {
         "name": "Risk factors: Interpretability and explainability",
         "rawType": "bool",
         "type": "boolean"
        },
        {
         "name": "Risk factors: Privacy",
         "rawType": "bool",
         "type": "boolean"
        },
        {
         "name": "Risk factors: Reliability",
         "rawType": "bool",
         "type": "boolean"
        },
        {
         "name": "Risk factors: Reliability: Robustness",
         "rawType": "bool",
         "type": "boolean"
        },
        {
         "name": "Risk factors: Safety",
         "rawType": "bool",
         "type": "boolean"
        },
        {
         "name": "Risk factors: Security",
         "rawType": "bool",
         "type": "boolean"
        },
        {
         "name": "Risk factors: Security: Cybersecurity",
         "rawType": "bool",
         "type": "boolean"
        },
        {
         "name": "Risk factors: Security: Dissemination",
         "rawType": "bool",
         "type": "boolean"
        },
        {
         "name": "Risk factors: Transparency",
         "rawType": "bool",
         "type": "boolean"
        },
        {
         "name": "Strategies: Convening",
         "rawType": "bool",
         "type": "boolean"
        },
        {
         "name": "Strategies: Disclosure",
         "rawType": "bool",
         "type": "boolean"
        },
        {
         "name": "Strategies: Disclosure: About evaluation",
         "rawType": "bool",
         "type": "boolean"
        },
        {
         "name": "Strategies: Disclosure: About incidents",
         "rawType": "bool",
         "type": "boolean"
        },
        {
         "name": "Strategies: Disclosure: About inputs",
         "rawType": "bool",
         "type": "boolean"
        },
        {
         "name": "Strategies: Disclosure: Accuracy thereof",
         "rawType": "bool",
         "type": "boolean"
        },
        {
         "name": "Strategies: Disclosure: In deployment",
         "rawType": "bool",
         "type": "boolean"
        },
        {
         "name": "Strategies: Disclosure: In standard form",
         "rawType": "bool",
         "type": "boolean"
        },
        {
         "name": "Strategies: Evaluation",
         "rawType": "bool",
         "type": "boolean"
        },
        {
         "name": "Strategies: Evaluation: Adversarial testing",
         "rawType": "bool",
         "type": "boolean"
        },
        {
         "name": "Strategies: Evaluation: Conformity assessment",
         "rawType": "bool",
         "type": "boolean"
        },
        {
         "name": "Strategies: Evaluation: External auditing",
         "rawType": "bool",
         "type": "boolean"
        },
        {
         "name": "Strategies: Evaluation: Impact assessment",
         "rawType": "bool",
         "type": "boolean"
        },
        {
         "name": "Strategies: Evaluation: Post-market monitoring",
         "rawType": "bool",
         "type": "boolean"
        },
        {
         "name": "Strategies: Governance development",
         "rawType": "bool",
         "type": "boolean"
        },
        {
         "name": "Strategies: Government study or report",
         "rawType": "bool",
         "type": "boolean"
        },
        {
         "name": "Strategies: Government support",
         "rawType": "bool",
         "type": "boolean"
        },
        {
         "name": "Strategies: Government support: AI workforce-related",
         "rawType": "bool",
         "type": "boolean"
        },
        {
         "name": "Strategies: Government support: For R&D",
         "rawType": "bool",
         "type": "boolean"
        },
        {
         "name": "Strategies: Input controls",
         "rawType": "bool",
         "type": "boolean"
        },
        {
         "name": "Strategies: Input controls: Compute circulation",
         "rawType": "bool",
         "type": "boolean"
        },
        {
         "name": "Strategies: Input controls: Compute use",
         "rawType": "bool",
         "type": "boolean"
        },
        {
         "name": "Strategies: Input controls: Data circulation",
         "rawType": "bool",
         "type": "boolean"
        },
        {
         "name": "Strategies: Input controls: Data use",
         "rawType": "bool",
         "type": "boolean"
        },
        {
         "name": "Strategies: Licensing, registration, and certification",
         "rawType": "bool",
         "type": "boolean"
        },
        {
         "name": "Strategies: New institution",
         "rawType": "bool",
         "type": "boolean"
        },
        {
         "name": "Strategies: Performance requirements",
         "rawType": "bool",
         "type": "boolean"
        },
        {
         "name": "Strategies: Pilots and testbeds",
         "rawType": "bool",
         "type": "boolean"
        },
        {
         "name": "Strategies: Tiering",
         "rawType": "bool",
         "type": "boolean"
        },
        {
         "name": "Strategies: Tiering: Tiering based on domain of application",
         "rawType": "bool",
         "type": "boolean"
        },
        {
         "name": "Strategies: Tiering: Tiering based on generality",
         "rawType": "bool",
         "type": "boolean"
        },
        {
         "name": "Strategies: Tiering: Tiering based on impact",
         "rawType": "bool",
         "type": "boolean"
        },
        {
         "name": "Strategies: Tiering: Tiering based on inputs",
         "rawType": "bool",
         "type": "boolean"
        },
        {
         "name": "Strategies: Tiering: Tiering based on planning ability",
         "rawType": "bool",
         "type": "boolean"
        }
       ],
       "ref": "96268f9d-adba-40c3-9d79-12e167f5d591",
       "rows": [
        [
         "760",
         "288",
         "A Bill to prohibit certain uses of automated decision systems by employers, and for other purposes.",
         "No Robot Bosses Act",
         "https://www.congress.gov/bill/118th-congress/senate-bill/2419",
         "United States Congress",
         "U.S. federal laws",
         "Defunct",
         "2025-01-03",
         "2023-07-20",
         "True",
         "True",
         "False",
         "True",
         "Restricts the use of automated decision systems for employment-related decisions, including by requiring such systems to be tested for efficacy, non-discrimination, and relevant laws & standards.",
         "Prohibits employers from making any employment-related decisions -- including to fire or discipline an employee -- based solely on the output of an automated decision system.\n\nRequires any automated decision system used to inform employment-related decisions to be tested before deployment for efficacy and compliance with relevant employment laws & the Artificial Intelligence Risk Management Framework from the National Institute of Standards & Technology. Systems must also be tested both before deployment and annually after deployment for non-discrimination on the basis of protected classes.\n\nRequires employers to disclose to employees the use of automated decision systems for employment-related decisions and information on the workings of the system and the data used to reach its decision.\n\nEstablishes new roles and bodies in the Department of Labor to monitor and enforce this policy and to guide the development of future regulations on the use of automated decision systems in employment-related decision-making.\n\nEstablishes protections for whistleblowers who call attention to violations of this policy.",
         "Risk factors: Bias;Risk factors: Reliability;Risk factors: Interpretability and explainability;Risk factors: Transparency;Harms: Financial loss;Harms: Violation of civil or human rights, including privacy;Harms: Discrimination;Strategies: Evaluation;Strategies: Evaluation: Conformity assessment;Strategies: Evaluation: External auditing;Strategies: Disclosure;Strategies: Disclosure: In deployment;Strategies: Disclosure: About evaluation;Strategies: Disclosure: About incidents;Strategies: Disclosure: About inputs;Strategies: Disclosure: In standard form;Strategies: Convening;Strategies: Governance development;Strategies: Performance requirements;Strategies: New institution;Incentives: Criminal liability;Incentives: Civil liability;Incentives: Fines;Applications: Business services and analytics",
         "False",
         "2024-10-15",
         "https://www.congress.gov/bill/118th-congress/senate-bill/2419/text/is?format=xml",
         "False",
         null,
         null,
         "25",
         "False",
         "False",
         "False",
         "True",
         "False",
         "False",
         "False",
         "False",
         "False",
         "False",
         "False",
         "False",
         "False",
         "False",
         "False",
         "False",
         "False",
         "False",
         "False",
         "False",
         "True",
         "False",
         "True",
         "False",
         "False",
         "False",
         "True",
         "False",
         "True",
         "True",
         "True",
         "False",
         "False",
         "True",
         "True",
         "False",
         "True",
         "False",
         "False",
         "False",
         "False",
         "False",
         "True",
         "True",
         "True",
         "True",
         "True",
         "True",
         "False",
         "True",
         "True",
         "True",
         "False",
         "True",
         "True",
         "False",
         "False",
         "True",
         "False",
         "False",
         "False",
         "False",
         "False",
         "False",
         "False",
         "False",
         "False",
         "False",
         "True",
         "True",
         "False",
         "False",
         "False",
         "False",
         "False",
         "False",
         "False"
        ],
        [
         "357",
         "1161",
         "James M. Inhofe National Defense Authorization Act for Fiscal Year 2023, Section 6718 (\"Certification relating to information technology and software systems\")",
         "FY2023 NDAA, Section 6718 (\"Certification relating to information technology and software systems\")",
         "https://www.congress.gov/bill/117th-congress/house-bill/7776/text",
         "United States Congress",
         "NDAA provisions;U.S. federal laws",
         "Enacted",
         "2022-12-23",
         null,
         "True",
         "True",
         "True",
         "False",
         "Requires heads of intelligence elements to certify IT systems' compatibility with AI before renewing or entering into new contracts. Mandates the Director of National Intelligence to provide guidance on incentives for the adoption of new technologies including additional funding and training.",
         "Mandates compatibility of information technology or software systems with new and emerging technologies, such as artificial intelligence.\n\nIncentivizes adoption and integration of new technologies and decommissioning outdated systems, including potential funding enhancements.\n\nHolds intelligence community personnel accountable for integrating new technologies, supported by training programs and evaluations.",
         "Applications: Government: military and public safety;Strategies: Government support;Strategies: Government support: AI workforce-related;Strategies: Governance development;Applications: Government: military and public safety",
         "False",
         "2024-06-21",
         "https://www.congress.gov/bill/117th-congress/house-bill/7776/text",
         "False",
         null,
         null,
         "2",
         "False",
         "False",
         "False",
         "False",
         "False",
         "False",
         "False",
         "False",
         "False",
         "False",
         "False",
         "True",
         "False",
         "False",
         "False",
         "False",
         "False",
         "False",
         "False",
         "False",
         "False",
         "False",
         "False",
         "False",
         "False",
         "False",
         "False",
         "False",
         "False",
         "False",
         "False",
         "False",
         "False",
         "False",
         "False",
         "False",
         "False",
         "False",
         "False",
         "False",
         "False",
         "False",
         "False",
         "False",
         "False",
         "False",
         "False",
         "False",
         "False",
         "False",
         "False",
         "False",
         "False",
         "False",
         "False",
         "False",
         "False",
         "True",
         "False",
         "True",
         "True",
         "False",
         "False",
         "False",
         "False",
         "False",
         "False",
         "False",
         "False",
         "False",
         "False",
         "False",
         "False",
         "False",
         "False",
         "False",
         "False"
        ],
        [
         "432",
         "1924",
         "TRAIN Act",
         "TRAIN Act",
         "https://www.congress.gov/bill/118th-congress/senate-bill/5379/text",
         "United States Congress",
         "U.S. federal laws",
         "Defunct",
         "2025-01-03",
         "2024-11-21",
         "False",
         "False",
         "False",
         "False",
         "Creates an administrative subpoena process for copyright owners to request disclosure of records from AI developers, identifying copyrighted works used in AI training. Permits legal action if AI developers fail to comply, establishing a rebuttable presumption of infringement.",
         "Enacts the \"Transparency and Responsibility for Artificial Intelligence Networks Act\" or \"TRAIN Act.\"\n\nRequires the United States district court clerk to issue a subpoena to AI model developers or deployers upon request from copyright owners.\n\nDefines artificial intelligence terms including AI models and generative AI models used in the legal context.\n\nAllows copyright owners, with a good faith belief of infringement, to request AI training data records.\n\nMandates that a subpoena requires model developers or deployers to disclose records of copyrighted works used in AI model training.\n\nDetails the procedure for the issuance and execution of subpoenas under the Federal Rules of Civil Procedure.\n\nCreates a rebuttable presumption of copyright copying if the subpoenaed party fails to comply.\n\nImplements the new rules on the date of enactment.",
         null,
         "True",
         "2025-02-03",
         "https://www.congress.gov/bill/118th-congress/senate-bill/5379/text",
         "False",
         null,
         null,
         "4",
         "False",
         "False",
         "False",
         "False",
         "False",
         "False",
         "False",
         "False",
         "False",
         "False",
         "False",
         "False",
         "False",
         "False",
         "False",
         "False",
         "False",
         "False",
         "False",
         "False",
         "False",
         "False",
         "False",
         "False",
         "False",
         "False",
         "False",
         "False",
         "False",
         "False",
         "False",
         "False",
         "False",
         "False",
         "False",
         "False",
         "False",
         "False",
         "False",
         "False",
         "False",
         "False",
         "False",
         "False",
         "False",
         "False",
         "False",
         "False",
         "False",
         "False",
         "False",
         "False",
         "False",
         "False",
         "False",
         "False",
         "False",
         "False",
         "False",
         "False",
         "False",
         "False",
         "False",
         "False",
         "False",
         "False",
         "False",
         "False",
         "False",
         "False",
         "False",
         "False",
         "False",
         "False",
         "False",
         "False",
         "False"
        ],
        [
         "236",
         "1018",
         "Federal Register Doc. No. 2024-01580. Taking Additional Steps To Address the National Emergency With Respect to Significant Malicious Cyber-Enabled Activities",
         "AI Cloud KYC Proposed Rule (Department of Commerce)",
         "https://www.federalregister.gov/documents/2024/01/29/2024-01580/taking-additional-steps-to-address-the-national-emergency-with-respect-to-significant-malicious",
         "Department of Commerce",
         "U.S. regulations, executive orders, and agency policies",
         "Proposed",
         "2024-04-29",
         "2024-01-29",
         "False",
         "False",
         "False",
         "False",
         "Require U.S. IaaS providers to implement Customer Identification Programs (CIP) for foreign customers to prevent malicious use of AI models. Report AI training activities that could aid harmful cyber operations. Impose penalties for non-compliance or false reporting.",
         "Requires U.S. Infrastructure as a Service (IaaS) providers to implement a Customer Identification Program (CIP) for verifying foreign customers' identities and maintaining relevant records to prevent malicious cyber activities. \n\nObligates foreign resellers to adhere to similar CIP standards and mandates U.S. IaaS providers to report on these. \n\nObligates reporting on transactions involving training of large AI models that could be misused for cyber activities. \n\nAuthorizes the Secretary of Commerce to enforce special measures against foreign jurisdictions or persons using U.S. IaaS for cyber threats. \n\nEnsures compliance by conducting assessments and requiring annual certification of CIPs by IaaS providers. \n\nInstitutes penalties for non-compliance, including civil and criminal liabilities. \n\nMandates reporting to the Department of Commerce for violations or suspicious activities associated with AI model training.",
         null,
         "True",
         "2025-03-18",
         "https://www.federalregister.gov/documents/2024/01/29/2024-01580/taking-additional-steps-to-address-the-national-emergency-with-respect-to-significant-malicious",
         "False",
         null,
         null,
         "52",
         "False",
         "False",
         "False",
         "False",
         "False",
         "False",
         "False",
         "False",
         "False",
         "False",
         "False",
         "False",
         "False",
         "False",
         "False",
         "False",
         "False",
         "False",
         "False",
         "False",
         "False",
         "False",
         "False",
         "False",
         "False",
         "False",
         "False",
         "False",
         "False",
         "False",
         "False",
         "False",
         "False",
         "False",
         "False",
         "False",
         "False",
         "False",
         "False",
         "False",
         "False",
         "False",
         "False",
         "False",
         "False",
         "False",
         "False",
         "False",
         "False",
         "False",
         "False",
         "False",
         "False",
         "False",
         "False",
         "False",
         "False",
         "False",
         "False",
         "False",
         "False",
         "False",
         "False",
         "False",
         "False",
         "False",
         "False",
         "False",
         "False",
         "False",
         "False",
         "False",
         "False",
         "False",
         "False",
         "False",
         "False"
        ],
        [
         "105",
         "2320",
         "China Technology Transfer Control Act of 2025",
         "China Technology Transfer Control Act of 2025",
         "https://www.congress.gov/bill/119th-congress/house-bill/1122",
         "United States Congress",
         "U.S. federal laws",
         "Proposed",
         "2025-02-07",
         "2025-02-07",
         "False",
         "False",
         "False",
         "False",
         "Regulates the export of technology related to AI and other fields to China by requiring the President to control such exports for national security. Requires the U.S. Trade Representative to annually list AI-related products supported by the Chinese government.",
         "Control the export, re-export, and transfer of certain national interest technology and intellectual property, including AI, to China, starting 180 days after the Act's enactment.\n\nRequire the Secretary of State and the Secretary of Commerce to report within 90 days on the necessity of controls under specific export regulations.\n\nPrescribe regulations within 180 days to enforce these controls.\n\nImpose sanctions under the International Emergency Economic Powers Act on entities engaging in the unlawful transfer or use of controlled technologies with China, excluding goods importation.\n\nEmpower the President to waive sanctions if deemed in U.S. national security interests.\n\nInstruct the United States Trade Representative to annually list Chinese products, including AI, that receive government support or assist in human rights violations.\n\nInclude AI technologies in products receiving Chinese support under its industrial policy, \"Made in China 2025.\"",
         null,
         "True",
         "2025-04-16",
         "https://www.congress.gov/bill/119th-congress/house-bill/1122/all-actions",
         "False",
         null,
         null,
         "6",
         "False",
         "False",
         "False",
         "False",
         "False",
         "False",
         "False",
         "False",
         "False",
         "False",
         "False",
         "False",
         "False",
         "False",
         "False",
         "False",
         "False",
         "False",
         "False",
         "False",
         "False",
         "False",
         "False",
         "False",
         "False",
         "False",
         "False",
         "False",
         "False",
         "False",
         "False",
         "False",
         "False",
         "False",
         "False",
         "False",
         "False",
         "False",
         "False",
         "False",
         "False",
         "False",
         "False",
         "False",
         "False",
         "False",
         "False",
         "False",
         "False",
         "False",
         "False",
         "False",
         "False",
         "False",
         "False",
         "False",
         "False",
         "False",
         "False",
         "False",
         "False",
         "False",
         "False",
         "False",
         "False",
         "False",
         "False",
         "False",
         "False",
         "False",
         "False",
         "False",
         "False",
         "False",
         "False",
         "False",
         "False"
        ]
       ],
       "shape": {
        "columns": 100,
        "rows": 5
       }
      },
      "text/html": [
       "<div>\n",
       "<style scoped>\n",
       "    .dataframe tbody tr th:only-of-type {\n",
       "        vertical-align: middle;\n",
       "    }\n",
       "\n",
       "    .dataframe tbody tr th {\n",
       "        vertical-align: top;\n",
       "    }\n",
       "\n",
       "    .dataframe thead th {\n",
       "        text-align: right;\n",
       "    }\n",
       "</style>\n",
       "<table border=\"1\" class=\"dataframe\">\n",
       "  <thead>\n",
       "    <tr style=\"text-align: right;\">\n",
       "      <th></th>\n",
       "      <th>AGORA ID</th>\n",
       "      <th>Official name</th>\n",
       "      <th>Casual name</th>\n",
       "      <th>Link to document</th>\n",
       "      <th>Authority</th>\n",
       "      <th>Collections</th>\n",
       "      <th>Most recent activity</th>\n",
       "      <th>Most recent activity date</th>\n",
       "      <th>Proposed date</th>\n",
       "      <th>Annotated?</th>\n",
       "      <th>...</th>\n",
       "      <th>Strategies: Licensing, registration, and certification</th>\n",
       "      <th>Strategies: New institution</th>\n",
       "      <th>Strategies: Performance requirements</th>\n",
       "      <th>Strategies: Pilots and testbeds</th>\n",
       "      <th>Strategies: Tiering</th>\n",
       "      <th>Strategies: Tiering: Tiering based on domain of application</th>\n",
       "      <th>Strategies: Tiering: Tiering based on generality</th>\n",
       "      <th>Strategies: Tiering: Tiering based on impact</th>\n",
       "      <th>Strategies: Tiering: Tiering based on inputs</th>\n",
       "      <th>Strategies: Tiering: Tiering based on planning ability</th>\n",
       "    </tr>\n",
       "  </thead>\n",
       "  <tbody>\n",
       "    <tr>\n",
       "      <th>760</th>\n",
       "      <td>288</td>\n",
       "      <td>A Bill to prohibit certain uses of automated d...</td>\n",
       "      <td>No Robot Bosses Act</td>\n",
       "      <td>https://www.congress.gov/bill/118th-congress/s...</td>\n",
       "      <td>United States Congress</td>\n",
       "      <td>U.S. federal laws</td>\n",
       "      <td>Defunct</td>\n",
       "      <td>2025-01-03</td>\n",
       "      <td>2023-07-20</td>\n",
       "      <td>True</td>\n",
       "      <td>...</td>\n",
       "      <td>False</td>\n",
       "      <td>True</td>\n",
       "      <td>True</td>\n",
       "      <td>False</td>\n",
       "      <td>False</td>\n",
       "      <td>False</td>\n",
       "      <td>False</td>\n",
       "      <td>False</td>\n",
       "      <td>False</td>\n",
       "      <td>False</td>\n",
       "    </tr>\n",
       "    <tr>\n",
       "      <th>357</th>\n",
       "      <td>1161</td>\n",
       "      <td>James M. Inhofe National Defense Authorization...</td>\n",
       "      <td>FY2023 NDAA, Section 6718 (\"Certification rela...</td>\n",
       "      <td>https://www.congress.gov/bill/117th-congress/h...</td>\n",
       "      <td>United States Congress</td>\n",
       "      <td>NDAA provisions;U.S. federal laws</td>\n",
       "      <td>Enacted</td>\n",
       "      <td>2022-12-23</td>\n",
       "      <td>NaN</td>\n",
       "      <td>True</td>\n",
       "      <td>...</td>\n",
       "      <td>False</td>\n",
       "      <td>False</td>\n",
       "      <td>False</td>\n",
       "      <td>False</td>\n",
       "      <td>False</td>\n",
       "      <td>False</td>\n",
       "      <td>False</td>\n",
       "      <td>False</td>\n",
       "      <td>False</td>\n",
       "      <td>False</td>\n",
       "    </tr>\n",
       "    <tr>\n",
       "      <th>432</th>\n",
       "      <td>1924</td>\n",
       "      <td>TRAIN Act</td>\n",
       "      <td>TRAIN Act</td>\n",
       "      <td>https://www.congress.gov/bill/118th-congress/s...</td>\n",
       "      <td>United States Congress</td>\n",
       "      <td>U.S. federal laws</td>\n",
       "      <td>Defunct</td>\n",
       "      <td>2025-01-03</td>\n",
       "      <td>2024-11-21</td>\n",
       "      <td>False</td>\n",
       "      <td>...</td>\n",
       "      <td>False</td>\n",
       "      <td>False</td>\n",
       "      <td>False</td>\n",
       "      <td>False</td>\n",
       "      <td>False</td>\n",
       "      <td>False</td>\n",
       "      <td>False</td>\n",
       "      <td>False</td>\n",
       "      <td>False</td>\n",
       "      <td>False</td>\n",
       "    </tr>\n",
       "    <tr>\n",
       "      <th>236</th>\n",
       "      <td>1018</td>\n",
       "      <td>Federal Register Doc. No. 2024-01580. Taking A...</td>\n",
       "      <td>AI Cloud KYC Proposed Rule (Department of Comm...</td>\n",
       "      <td>https://www.federalregister.gov/documents/2024...</td>\n",
       "      <td>Department of Commerce</td>\n",
       "      <td>U.S. regulations, executive orders, and agency...</td>\n",
       "      <td>Proposed</td>\n",
       "      <td>2024-04-29</td>\n",
       "      <td>2024-01-29</td>\n",
       "      <td>False</td>\n",
       "      <td>...</td>\n",
       "      <td>False</td>\n",
       "      <td>False</td>\n",
       "      <td>False</td>\n",
       "      <td>False</td>\n",
       "      <td>False</td>\n",
       "      <td>False</td>\n",
       "      <td>False</td>\n",
       "      <td>False</td>\n",
       "      <td>False</td>\n",
       "      <td>False</td>\n",
       "    </tr>\n",
       "    <tr>\n",
       "      <th>105</th>\n",
       "      <td>2320</td>\n",
       "      <td>China Technology Transfer Control Act of 2025</td>\n",
       "      <td>China Technology Transfer Control Act of 2025</td>\n",
       "      <td>https://www.congress.gov/bill/119th-congress/h...</td>\n",
       "      <td>United States Congress</td>\n",
       "      <td>U.S. federal laws</td>\n",
       "      <td>Proposed</td>\n",
       "      <td>2025-02-07</td>\n",
       "      <td>2025-02-07</td>\n",
       "      <td>False</td>\n",
       "      <td>...</td>\n",
       "      <td>False</td>\n",
       "      <td>False</td>\n",
       "      <td>False</td>\n",
       "      <td>False</td>\n",
       "      <td>False</td>\n",
       "      <td>False</td>\n",
       "      <td>False</td>\n",
       "      <td>False</td>\n",
       "      <td>False</td>\n",
       "      <td>False</td>\n",
       "    </tr>\n",
       "  </tbody>\n",
       "</table>\n",
       "<p>5 rows × 100 columns</p>\n",
       "</div>"
      ],
      "text/plain": [
       "     AGORA ID                                      Official name  \\\n",
       "760       288  A Bill to prohibit certain uses of automated d...   \n",
       "357      1161  James M. Inhofe National Defense Authorization...   \n",
       "432      1924                                          TRAIN Act   \n",
       "236      1018  Federal Register Doc. No. 2024-01580. Taking A...   \n",
       "105      2320      China Technology Transfer Control Act of 2025   \n",
       "\n",
       "                                           Casual name  \\\n",
       "760                                No Robot Bosses Act   \n",
       "357  FY2023 NDAA, Section 6718 (\"Certification rela...   \n",
       "432                                          TRAIN Act   \n",
       "236  AI Cloud KYC Proposed Rule (Department of Comm...   \n",
       "105      China Technology Transfer Control Act of 2025   \n",
       "\n",
       "                                      Link to document  \\\n",
       "760  https://www.congress.gov/bill/118th-congress/s...   \n",
       "357  https://www.congress.gov/bill/117th-congress/h...   \n",
       "432  https://www.congress.gov/bill/118th-congress/s...   \n",
       "236  https://www.federalregister.gov/documents/2024...   \n",
       "105  https://www.congress.gov/bill/119th-congress/h...   \n",
       "\n",
       "                  Authority  \\\n",
       "760  United States Congress   \n",
       "357  United States Congress   \n",
       "432  United States Congress   \n",
       "236  Department of Commerce   \n",
       "105  United States Congress   \n",
       "\n",
       "                                           Collections Most recent activity  \\\n",
       "760                                  U.S. federal laws              Defunct   \n",
       "357                  NDAA provisions;U.S. federal laws              Enacted   \n",
       "432                                  U.S. federal laws              Defunct   \n",
       "236  U.S. regulations, executive orders, and agency...             Proposed   \n",
       "105                                  U.S. federal laws             Proposed   \n",
       "\n",
       "    Most recent activity date Proposed date  Annotated?  ...  \\\n",
       "760                2025-01-03    2023-07-20        True  ...   \n",
       "357                2022-12-23           NaN        True  ...   \n",
       "432                2025-01-03    2024-11-21       False  ...   \n",
       "236                2024-04-29    2024-01-29       False  ...   \n",
       "105                2025-02-07    2025-02-07       False  ...   \n",
       "\n",
       "     Strategies: Licensing, registration, and certification  \\\n",
       "760                                              False        \n",
       "357                                              False        \n",
       "432                                              False        \n",
       "236                                              False        \n",
       "105                                              False        \n",
       "\n",
       "     Strategies: New institution  Strategies: Performance requirements  \\\n",
       "760                         True                                  True   \n",
       "357                        False                                 False   \n",
       "432                        False                                 False   \n",
       "236                        False                                 False   \n",
       "105                        False                                 False   \n",
       "\n",
       "    Strategies: Pilots and testbeds Strategies: Tiering  \\\n",
       "760                           False               False   \n",
       "357                           False               False   \n",
       "432                           False               False   \n",
       "236                           False               False   \n",
       "105                           False               False   \n",
       "\n",
       "    Strategies: Tiering: Tiering based on domain of application  \\\n",
       "760                                              False            \n",
       "357                                              False            \n",
       "432                                              False            \n",
       "236                                              False            \n",
       "105                                              False            \n",
       "\n",
       "     Strategies: Tiering: Tiering based on generality  \\\n",
       "760                                             False   \n",
       "357                                             False   \n",
       "432                                             False   \n",
       "236                                             False   \n",
       "105                                             False   \n",
       "\n",
       "    Strategies: Tiering: Tiering based on impact  \\\n",
       "760                                        False   \n",
       "357                                        False   \n",
       "432                                        False   \n",
       "236                                        False   \n",
       "105                                        False   \n",
       "\n",
       "    Strategies: Tiering: Tiering based on inputs  \\\n",
       "760                                        False   \n",
       "357                                        False   \n",
       "432                                        False   \n",
       "236                                        False   \n",
       "105                                        False   \n",
       "\n",
       "     Strategies: Tiering: Tiering based on planning ability  \n",
       "760                                              False       \n",
       "357                                              False       \n",
       "432                                              False       \n",
       "236                                              False       \n",
       "105                                              False       \n",
       "\n",
       "[5 rows x 100 columns]"
      ]
     },
     "execution_count": 3,
     "metadata": {},
     "output_type": "execute_result"
    }
   ],
   "source": [
    "docs_df = pd.read_csv(\"./data/documents.csv\")\n",
    "docs_df.sample(5)"
   ]
  },
  {
   "cell_type": "code",
   "execution_count": 4,
   "metadata": {},
   "outputs": [
    {
     "data": {
      "application/vnd.microsoft.datawrangler.viewer.v0+json": {
       "columns": [
        {
         "name": "index",
         "rawType": "object",
         "type": "string"
        },
        {
         "name": "0",
         "rawType": "float64",
         "type": "float"
        }
       ],
       "ref": "a05447c8-720f-4e0d-8fd2-3303781034f0",
       "rows": [
        [
         "Authority",
         "0.0"
        ],
        [
         "Collections",
         "0.002103049421661409"
        ],
        [
         "Tags",
         "0.555205047318612"
        ]
       ],
       "shape": {
        "columns": 1,
        "rows": 3
       }
      },
      "text/plain": [
       "Authority      0.000000\n",
       "Collections    0.002103\n",
       "Tags           0.555205\n",
       "dtype: float64"
      ]
     },
     "execution_count": 4,
     "metadata": {},
     "output_type": "execute_result"
    }
   ],
   "source": [
    "# check for proportion of NA in Authority, Collections, Tags\n",
    "docs_df[['Authority', 'Collections', 'Tags']].isna().sum() /len(docs_df)"
   ]
  },
  {
   "cell_type": "code",
   "execution_count": 5,
   "metadata": {},
   "outputs": [
    {
     "data": {
      "application/vnd.microsoft.datawrangler.viewer.v0+json": {
       "columns": [
        {
         "name": "index",
         "rawType": "int64",
         "type": "integer"
        },
        {
         "name": "Tags",
         "rawType": "object",
         "type": "string"
        }
       ],
       "ref": "a304a924-6829-403e-b68f-dc95dd046e8c",
       "rows": [
        [
         "406",
         "Harms: Financial loss;Strategies: Government study or report;Strategies: Performance requirements;Applications: Sales, retail, and customer relations"
        ],
        [
         "381",
         "Risk factors: Bias;Risk factors: Privacy;Risk factors: Security;Risk factors: Security: Cybersecurity;Risk factors: Transparency;Harms: Financial loss;Harms: Violation of civil or human rights, including privacy;Harms: Discrimination;Strategies: Evaluation;Strategies: Evaluation: Impact assessment;Strategies: Evaluation: Conformity assessment;Strategies: Disclosure;Strategies: Disclosure: In deployment;Strategies: Disclosure: About evaluation;Strategies: Disclosure: About inputs;Strategies: Disclosure: In standard form;Strategies: Government study or report;Strategies: Government support;Strategies: Government support: AI workforce-related;Strategies: Convening;Strategies: Governance development;Strategies: New institution;Applications: Government: benefits and welfare;Applications: Government: judicial and law enforcement"
        ],
        [
         "536",
         "Risk factors: Transparency;Strategies: Disclosure;Strategies: Disclosure: About incidents;Strategies: Disclosure: About evaluation;Strategies: Disclosure: In standard form;Strategies: Disclosure: In deployment;Strategies: Disclosure;Strategies: Disclosure: In standard form;Strategies: Disclosure: About incidents;Strategies: Disclosure: In deployment;Incentives: Civil liability"
        ],
        [
         "342",
         "Strategies: Government study or report;Applications: Government: military and public safety"
        ],
        [
         "674",
         "Strategies: Input controls"
        ],
        [
         "167",
         "Applications: Medicine, life sciences and public health;Risk factors: Bias;Harms: Discrimination;Risk factors: Transparency;Harms: Violation of civil or human rights, including privacy;Harms: Violation of civil or human rights, including privacy;Risk factors: Privacy;Harms: Detrimental content;Harms: Financial loss;Incentives: Civil liability;Harms: Discrimination;Strategies: Evaluation;Strategies: Evaluation: External auditing;Risk factors: Reliability;Risk factors: Privacy;Harms: Violation of civil or human rights, including privacy;Incentives: Civil liability;Harms: Discrimination;Harms: Violation of civil or human rights, including privacy;Risk factors: Privacy;Strategies: Input controls;Strategies: Input controls: Data use;Strategies: Disclosure;Strategies: Disclosure: About inputs;Strategies: Disclosure: In deployment;Strategies: Input controls;Strategies: Input controls: Data circulation;Risk factors: Privacy;Harms: Violation of civil or human rights, including privacy;Incentives: Civil liability;Harms: Harm to health/safety"
        ],
        [
         "678",
         "Strategies: Input controls: Compute circulation;Strategies: Input controls;Strategies: Disclosure;Strategies: Disclosure: About inputs;Strategies: Government support;Strategies: Government study or report;Incentives: Civil liability;Strategies: Government study or report;Strategies: Government support;Strategies: Input controls;Strategies: Input controls: Data use"
        ],
        [
         "21",
         "Strategies: Government support: AI workforce-related;Strategies: Government support;Strategies: Government study or report"
        ],
        [
         "72",
         "Strategies: Government study or report;Strategies: Disclosure;Strategies: Government support;Strategies: Government support: AI workforce-related"
        ],
        [
         "177",
         "Strategies: Government support;Strategies: Government support: For R&D;Incentives: Subsidies;Strategies: Disclosure;Strategies: Convening;Applications: Government: other applications/unspecified;Strategies: Evaluation;Strategies: Government support;Strategies: Government support: AI workforce-related"
        ]
       ],
       "shape": {
        "columns": 1,
        "rows": 10
       }
      },
      "text/plain": [
       "406    Harms: Financial loss;Strategies: Government s...\n",
       "381    Risk factors: Bias;Risk factors: Privacy;Risk ...\n",
       "536    Risk factors: Transparency;Strategies: Disclos...\n",
       "342    Strategies: Government study or report;Applica...\n",
       "674                           Strategies: Input controls\n",
       "167    Applications: Medicine, life sciences and publ...\n",
       "678    Strategies: Input controls: Compute circulatio...\n",
       "21     Strategies: Government support: AI workforce-r...\n",
       "72     Strategies: Government study or report;Strateg...\n",
       "177    Strategies: Government support;Strategies: Gov...\n",
       "Name: Tags, dtype: object"
      ]
     },
     "execution_count": 5,
     "metadata": {},
     "output_type": "execute_result"
    }
   ],
   "source": [
    "# about 55 % of the tags are missing; \n",
    "docs_df.loc[docs_df.Tags.notna(), 'Tags'].sample(10)"
   ]
  },
  {
   "cell_type": "code",
   "execution_count": 6,
   "metadata": {},
   "outputs": [
    {
     "data": {
      "text/plain": [
       "np.int64(0)"
      ]
     },
     "execution_count": 6,
     "metadata": {},
     "output_type": "execute_result"
    }
   ],
   "source": [
    "# when Tags is empty are all the subsequent field false ? Yes\n",
    "# so Tags 55 % of the tags are missing and the individual fields are marked as False.\n",
    "docs_df.loc[docs_df.Tags.isna(), docs_df.columns[23:]].sum().sum()"
   ]
  },
  {
   "cell_type": "code",
   "execution_count": null,
   "metadata": {},
   "outputs": [
    {
     "data": {
      "text/plain": [
       "array([4])"
      ]
     },
     "execution_count": 7,
     "metadata": {},
     "output_type": "execute_result"
    }
   ],
   "source": [
    "# how many long summaries are not usuable ?\n",
    "docs_df[['Long summary']].isna().sum().values"
   ]
  },
  {
   "cell_type": "code",
   "execution_count": null,
   "metadata": {},
   "outputs": [],
   "source": [
    "n_samples = 50\n",
    "with open(f'prompt_tests/{n_samples}_long_summaries.txt', 'w') as w:\n",
    "    arr = docs_df[['Long summary']].sample(n_samples, random_state=seed).values\n",
    "    for i, a in enumerate(arr):\n",
    "        w.write(f'{i + 1}. {a[0]}\\n')\n",
    "        w.write('\\n\\n# --------------------------------------------------------------------- #\\n\\n')"
   ]
  },
  {
   "cell_type": "code",
   "execution_count": null,
   "metadata": {},
   "outputs": [],
   "source": []
  },
  {
   "cell_type": "code",
   "execution_count": null,
   "metadata": {},
   "outputs": [],
   "source": []
  },
  {
   "cell_type": "code",
   "execution_count": null,
   "metadata": {},
   "outputs": [],
   "source": []
  },
  {
   "cell_type": "code",
   "execution_count": null,
   "metadata": {},
   "outputs": [],
   "source": []
  },
  {
   "cell_type": "code",
   "execution_count": null,
   "metadata": {},
   "outputs": [],
   "source": []
  },
  {
   "cell_type": "code",
   "execution_count": null,
   "metadata": {},
   "outputs": [],
   "source": []
  },
  {
   "cell_type": "code",
   "execution_count": null,
   "metadata": {},
   "outputs": [],
   "source": []
  },
  {
   "cell_type": "code",
   "execution_count": null,
   "metadata": {},
   "outputs": [],
   "source": []
  },
  {
   "cell_type": "code",
   "execution_count": null,
   "metadata": {},
   "outputs": [],
   "source": []
  },
  {
   "cell_type": "code",
   "execution_count": null,
   "metadata": {},
   "outputs": [],
   "source": []
  },
  {
   "cell_type": "code",
   "execution_count": null,
   "metadata": {},
   "outputs": [],
   "source": []
  },
  {
   "cell_type": "code",
   "execution_count": null,
   "metadata": {},
   "outputs": [],
   "source": []
  },
  {
   "cell_type": "code",
   "execution_count": null,
   "metadata": {},
   "outputs": [],
   "source": []
  },
  {
   "cell_type": "code",
   "execution_count": null,
   "metadata": {},
   "outputs": [],
   "source": []
  },
  {
   "cell_type": "code",
   "execution_count": null,
   "metadata": {},
   "outputs": [],
   "source": []
  },
  {
   "cell_type": "code",
   "execution_count": null,
   "metadata": {},
   "outputs": [],
   "source": []
  },
  {
   "cell_type": "code",
   "execution_count": null,
   "metadata": {},
   "outputs": [],
   "source": []
  },
  {
   "cell_type": "code",
   "execution_count": null,
   "metadata": {},
   "outputs": [],
   "source": []
  }
 ],
 "metadata": {
  "kernelspec": {
   "display_name": "agora-knowledge-graph",
   "language": "python",
   "name": "python3"
  },
  "language_info": {
   "codemirror_mode": {
    "name": "ipython",
    "version": 3
   },
   "file_extension": ".py",
   "mimetype": "text/x-python",
   "name": "python",
   "nbconvert_exporter": "python",
   "pygments_lexer": "ipython3",
   "version": "3.10.3"
  }
 },
 "nbformat": 4,
 "nbformat_minor": 2
}
