{
 "cells": [
  {
   "cell_type": "code",
   "execution_count": 3,
   "metadata": {},
   "outputs": [],
   "source": [
    "import pandas as pd\n",
    "import spacy \n",
    "\n",
    "nlp = spacy.load(\"en_core_web_sm\")"
   ]
  },
  {
   "cell_type": "code",
   "execution_count": 4,
   "metadata": {},
   "outputs": [
    {
     "data": {
      "application/vnd.microsoft.datawrangler.viewer.v0+json": {
       "columns": [
        {
         "name": "index",
         "rawType": "int64",
         "type": "integer"
        },
        {
         "name": "AGORA ID",
         "rawType": "int64",
         "type": "integer"
        },
        {
         "name": "Official name",
         "rawType": "object",
         "type": "string"
        },
        {
         "name": "Casual name",
         "rawType": "object",
         "type": "string"
        },
        {
         "name": "Link to document",
         "rawType": "object",
         "type": "string"
        },
        {
         "name": "Authority",
         "rawType": "object",
         "type": "string"
        },
        {
         "name": "Collections",
         "rawType": "object",
         "type": "string"
        },
        {
         "name": "Most recent activity",
         "rawType": "object",
         "type": "string"
        },
        {
         "name": "Most recent activity date",
         "rawType": "object",
         "type": "string"
        },
        {
         "name": "Proposed date",
         "rawType": "object",
         "type": "string"
        },
        {
         "name": "Annotated?",
         "rawType": "bool",
         "type": "boolean"
        },
        {
         "name": "Validated?",
         "rawType": "bool",
         "type": "boolean"
        },
        {
         "name": "Primarily applies to the government",
         "rawType": "bool",
         "type": "boolean"
        },
        {
         "name": "Primarily applies to the private sector",
         "rawType": "bool",
         "type": "boolean"
        },
        {
         "name": "Short summary",
         "rawType": "object",
         "type": "string"
        },
        {
         "name": "Long summary",
         "rawType": "object",
         "type": "string"
        },
        {
         "name": "Tags",
         "rawType": "object",
         "type": "unknown"
        },
        {
         "name": "Summaries and tags may include unreviewed machine output",
         "rawType": "bool",
         "type": "boolean"
        },
        {
         "name": "Official plaintext retrieved",
         "rawType": "object",
         "type": "string"
        },
        {
         "name": "Official plaintext source",
         "rawType": "object",
         "type": "string"
        },
        {
         "name": "Official plaintext unavailable/infeasible",
         "rawType": "bool",
         "type": "boolean"
        },
        {
         "name": "Official pdf source",
         "rawType": "object",
         "type": "unknown"
        },
        {
         "name": "Official pdf retrieved",
         "rawType": "object",
         "type": "unknown"
        },
        {
         "name": "Number of segments created",
         "rawType": "int64",
         "type": "integer"
        },
        {
         "name": "Applications: Agriculture and resource extraction",
         "rawType": "bool",
         "type": "boolean"
        },
        {
         "name": "Applications: Arts, sports, leisure, travel, and lifestyle",
         "rawType": "bool",
         "type": "boolean"
        },
        {
         "name": "Applications: Broadcasting and media production",
         "rawType": "bool",
         "type": "boolean"
        },
        {
         "name": "Applications: Business services and analytics",
         "rawType": "bool",
         "type": "boolean"
        },
        {
         "name": "Applications: Construction and field services",
         "rawType": "bool",
         "type": "boolean"
        },
        {
         "name": "Applications: Consumer goods",
         "rawType": "bool",
         "type": "boolean"
        },
        {
         "name": "Applications: Education",
         "rawType": "bool",
         "type": "boolean"
        },
        {
         "name": "Applications: Energy and utilities",
         "rawType": "bool",
         "type": "boolean"
        },
        {
         "name": "Applications: Finance and investment",
         "rawType": "bool",
         "type": "boolean"
        },
        {
         "name": "Applications: Government: benefits and welfare",
         "rawType": "bool",
         "type": "boolean"
        },
        {
         "name": "Applications: Government: judicial and law enforcement",
         "rawType": "bool",
         "type": "boolean"
        },
        {
         "name": "Applications: Government: military and public safety",
         "rawType": "bool",
         "type": "boolean"
        },
        {
         "name": "Applications: Government: other applications/unspecified",
         "rawType": "bool",
         "type": "boolean"
        },
        {
         "name": "Applications: Manufacturing and process automation",
         "rawType": "bool",
         "type": "boolean"
        },
        {
         "name": "Applications: Medicine, life sciences and public health",
         "rawType": "bool",
         "type": "boolean"
        },
        {
         "name": "Applications: Networking and telecommunications",
         "rawType": "bool",
         "type": "boolean"
        },
        {
         "name": "Applications: Sales, retail, and customer relations",
         "rawType": "bool",
         "type": "boolean"
        },
        {
         "name": "Applications: Security",
         "rawType": "bool",
         "type": "boolean"
        },
        {
         "name": "Applications: Transportation",
         "rawType": "bool",
         "type": "boolean"
        },
        {
         "name": "Harms: Detrimental content",
         "rawType": "bool",
         "type": "boolean"
        },
        {
         "name": "Harms: Discrimination",
         "rawType": "bool",
         "type": "boolean"
        },
        {
         "name": "Harms: Ecological harm",
         "rawType": "bool",
         "type": "boolean"
        },
        {
         "name": "Harms: Financial loss",
         "rawType": "bool",
         "type": "boolean"
        },
        {
         "name": "Harms: Harm to health/safety",
         "rawType": "bool",
         "type": "boolean"
        },
        {
         "name": "Harms: Harm to infrastructure",
         "rawType": "bool",
         "type": "boolean"
        },
        {
         "name": "Harms: Harm to property",
         "rawType": "bool",
         "type": "boolean"
        },
        {
         "name": "Harms: Violation of civil or human rights, including privacy",
         "rawType": "bool",
         "type": "boolean"
        },
        {
         "name": "Incentives: Access to business opportunities",
         "rawType": "bool",
         "type": "boolean"
        },
        {
         "name": "Incentives: Civil liability",
         "rawType": "bool",
         "type": "boolean"
        },
        {
         "name": "Incentives: Criminal liability",
         "rawType": "bool",
         "type": "boolean"
        },
        {
         "name": "Incentives: Fines",
         "rawType": "bool",
         "type": "boolean"
        },
        {
         "name": "Incentives: Imprisonment",
         "rawType": "bool",
         "type": "boolean"
        },
        {
         "name": "Incentives: Subsidies",
         "rawType": "bool",
         "type": "boolean"
        },
        {
         "name": "Risk factors: Bias",
         "rawType": "bool",
         "type": "boolean"
        },
        {
         "name": "Risk factors: Interpretability and explainability",
         "rawType": "bool",
         "type": "boolean"
        },
        {
         "name": "Risk factors: Privacy",
         "rawType": "bool",
         "type": "boolean"
        },
        {
         "name": "Risk factors: Reliability",
         "rawType": "bool",
         "type": "boolean"
        },
        {
         "name": "Risk factors: Reliability: Robustness",
         "rawType": "bool",
         "type": "boolean"
        },
        {
         "name": "Risk factors: Safety",
         "rawType": "bool",
         "type": "boolean"
        },
        {
         "name": "Risk factors: Security",
         "rawType": "bool",
         "type": "boolean"
        },
        {
         "name": "Risk factors: Security: Cybersecurity",
         "rawType": "bool",
         "type": "boolean"
        },
        {
         "name": "Risk factors: Security: Dissemination",
         "rawType": "bool",
         "type": "boolean"
        },
        {
         "name": "Risk factors: Transparency",
         "rawType": "bool",
         "type": "boolean"
        },
        {
         "name": "Strategies: Convening",
         "rawType": "bool",
         "type": "boolean"
        },
        {
         "name": "Strategies: Disclosure",
         "rawType": "bool",
         "type": "boolean"
        },
        {
         "name": "Strategies: Disclosure: About evaluation",
         "rawType": "bool",
         "type": "boolean"
        },
        {
         "name": "Strategies: Disclosure: About incidents",
         "rawType": "bool",
         "type": "boolean"
        },
        {
         "name": "Strategies: Disclosure: About inputs",
         "rawType": "bool",
         "type": "boolean"
        },
        {
         "name": "Strategies: Disclosure: Accuracy thereof",
         "rawType": "bool",
         "type": "boolean"
        },
        {
         "name": "Strategies: Disclosure: In deployment",
         "rawType": "bool",
         "type": "boolean"
        },
        {
         "name": "Strategies: Disclosure: In standard form",
         "rawType": "bool",
         "type": "boolean"
        },
        {
         "name": "Strategies: Evaluation",
         "rawType": "bool",
         "type": "boolean"
        },
        {
         "name": "Strategies: Evaluation: Adversarial testing",
         "rawType": "bool",
         "type": "boolean"
        },
        {
         "name": "Strategies: Evaluation: Conformity assessment",
         "rawType": "bool",
         "type": "boolean"
        },
        {
         "name": "Strategies: Evaluation: External auditing",
         "rawType": "bool",
         "type": "boolean"
        },
        {
         "name": "Strategies: Evaluation: Impact assessment",
         "rawType": "bool",
         "type": "boolean"
        },
        {
         "name": "Strategies: Evaluation: Post-market monitoring",
         "rawType": "bool",
         "type": "boolean"
        },
        {
         "name": "Strategies: Governance development",
         "rawType": "bool",
         "type": "boolean"
        },
        {
         "name": "Strategies: Government study or report",
         "rawType": "bool",
         "type": "boolean"
        },
        {
         "name": "Strategies: Government support",
         "rawType": "bool",
         "type": "boolean"
        },
        {
         "name": "Strategies: Government support: AI workforce-related",
         "rawType": "bool",
         "type": "boolean"
        },
        {
         "name": "Strategies: Government support: For R&D",
         "rawType": "bool",
         "type": "boolean"
        },
        {
         "name": "Strategies: Input controls",
         "rawType": "bool",
         "type": "boolean"
        },
        {
         "name": "Strategies: Input controls: Compute circulation",
         "rawType": "bool",
         "type": "boolean"
        },
        {
         "name": "Strategies: Input controls: Compute use",
         "rawType": "bool",
         "type": "boolean"
        },
        {
         "name": "Strategies: Input controls: Data circulation",
         "rawType": "bool",
         "type": "boolean"
        },
        {
         "name": "Strategies: Input controls: Data use",
         "rawType": "bool",
         "type": "boolean"
        },
        {
         "name": "Strategies: Licensing, registration, and certification",
         "rawType": "bool",
         "type": "boolean"
        },
        {
         "name": "Strategies: New institution",
         "rawType": "bool",
         "type": "boolean"
        },
        {
         "name": "Strategies: Performance requirements",
         "rawType": "bool",
         "type": "boolean"
        },
        {
         "name": "Strategies: Pilots and testbeds",
         "rawType": "bool",
         "type": "boolean"
        },
        {
         "name": "Strategies: Tiering",
         "rawType": "bool",
         "type": "boolean"
        },
        {
         "name": "Strategies: Tiering: Tiering based on domain of application",
         "rawType": "bool",
         "type": "boolean"
        },
        {
         "name": "Strategies: Tiering: Tiering based on generality",
         "rawType": "bool",
         "type": "boolean"
        },
        {
         "name": "Strategies: Tiering: Tiering based on impact",
         "rawType": "bool",
         "type": "boolean"
        },
        {
         "name": "Strategies: Tiering: Tiering based on inputs",
         "rawType": "bool",
         "type": "boolean"
        },
        {
         "name": "Strategies: Tiering: Tiering based on planning ability",
         "rawType": "bool",
         "type": "boolean"
        }
       ],
       "ref": "d58bf011-b8b8-4498-90fc-15d0e0459290",
       "rows": [
        [
         "228",
         "374",
         "New York A7838",
         "New York A7838 (\"Long-term impact of AI on workforce\")",
         "https://www.nysenate.gov/legislation/bills/2023/A7838",
         "New York",
         "U.S. state and local documents",
         "Proposed",
         "2023-07-07",
         "2023-07-07",
         "True",
         "False",
         "True",
         "False",
         "Requires the New York Department of Labor to study AI's long-term impact on the workforce, issuing interim reports every five years and a final report by 2035. Prohibits state entities from using AI to displace employees until the final report.",
         "Mandates the Department of Labor to begin a study on the long-term impact of artificial intelligence on the state workforce within six months.\n\nRequires consultation with the Department of Civil Service and the Office of Information Technology Services.\n\nCalls for examination of job performance, productivity, training, education requirements, privacy, and security.\n\nObligates the Department of Labor to issue an interim report every five years and a final report by January 1, 2035, with recommendations for legislative action.\n\nProhibits all state departments and governmental entities from using AI to displace any natural person from their employment until the final report and recommendations are received.\n\nEnsures immediate effect upon enactment.",
         "Strategies: Government study or report;Strategies: Evaluation;Strategies: Evaluation: Impact assessment;Applications: Government: other applications/unspecified",
         "False",
         "2024-06-16",
         "https://www.nysenate.gov/legislation/bills/2023/A7838",
         "False",
         null,
         null,
         "3",
         "False",
         "False",
         "False",
         "False",
         "False",
         "False",
         "False",
         "False",
         "False",
         "False",
         "False",
         "False",
         "True",
         "False",
         "False",
         "False",
         "False",
         "False",
         "False",
         "False",
         "False",
         "False",
         "False",
         "False",
         "False",
         "False",
         "False",
         "False",
         "False",
         "False",
         "False",
         "False",
         "False",
         "False",
         "False",
         "False",
         "False",
         "False",
         "False",
         "False",
         "False",
         "False",
         "False",
         "False",
         "False",
         "False",
         "False",
         "False",
         "False",
         "False",
         "False",
         "True",
         "False",
         "False",
         "False",
         "True",
         "False",
         "False",
         "True",
         "False",
         "False",
         "False",
         "False",
         "False",
         "False",
         "False",
         "False",
         "False",
         "False",
         "False",
         "False",
         "False",
         "False",
         "False",
         "False",
         "False",
         "False"
        ],
        [
         "444",
         "1922",
         "SCAM Platform Act",
         "SCAM Platform Act",
         "https://www.congress.gov/bill/118th-congress/house-bill/10212/text",
         "United States Congress",
         "U.S. federal laws",
         "Defunct",
         "2025-01-03",
         "2024-11-21",
         "False",
         "False",
         "False",
         "False",
         "Requires the Federal Communications Commission to create an AI-based tool within one year to help the public identify likely scams. Specifies that the tool must accept various submission formats, evaluate scam likelihood, and provide a scam likelihood rating.",
         "Mandates the Federal Communications Commission (FCC) to develop an artificial intelligence-based tool to help the public identify likely scams within one year of this Act's enactment.\n\nRequires the AI tool to accept various submission formats including emails, text messages, website URLs, and scans or photographs of physical materials.\n\nObliges the tool to evaluate the likelihood of submissions being scams and provide a rating to reflect this likelihood.\n\nDefines \"artificial intelligence\" as per the National Artificial Intelligence Initiative Act of 2020.\n\nDefines \"scam\" as any scheme designed to defraud by inducing a recipient to take actions against their interest, through false or misleading information.",
         null,
         "True",
         "2025-01-31",
         "https://www.congress.gov/bill/118th-congress/house-bill/10212/text",
         "False",
         null,
         null,
         "1",
         "False",
         "False",
         "False",
         "False",
         "False",
         "False",
         "False",
         "False",
         "False",
         "False",
         "False",
         "False",
         "False",
         "False",
         "False",
         "False",
         "False",
         "False",
         "False",
         "False",
         "False",
         "False",
         "False",
         "False",
         "False",
         "False",
         "False",
         "False",
         "False",
         "False",
         "False",
         "False",
         "False",
         "False",
         "False",
         "False",
         "False",
         "False",
         "False",
         "False",
         "False",
         "False",
         "False",
         "False",
         "False",
         "False",
         "False",
         "False",
         "False",
         "False",
         "False",
         "False",
         "False",
         "False",
         "False",
         "False",
         "False",
         "False",
         "False",
         "False",
         "False",
         "False",
         "False",
         "False",
         "False",
         "False",
         "False",
         "False",
         "False",
         "False",
         "False",
         "False",
         "False",
         "False",
         "False",
         "False",
         "False"
        ],
        [
         "678",
         "988",
         "Countering Communist China Act, Title I (\"Matters Related to Trade, Investment, and Economic Relations\"), Sec. 101 (\"Preventing Adversaries from Developing Critical Capabilities\")",
         "Countering Communist China Act, Title I (\"Trade, Investment, and Economic Relations\"), Sec. 101 (\"Preventing Adversaries from Developing Critical Capabilities\")",
         "https://www.congress.gov/bill/118th-congress/house-bill/7476",
         "United States Congress",
         "U.S. federal laws",
         "Defunct",
         "2025-01-03",
         "2024-02-29",
         "True",
         "False",
         "True",
         "False",
         "Identify categories of technologies and prohibit certain activities in sectors related to AI development that that poses acute threats to US national security.",
         "Requires the President to identify, list, and annually update categories of technologies and products in the AI sector that pose acute threats to U.S. national security if acquired by adversaries.\n\nRequires the President to prescribe regulations prohibiting U.S. persons from engaging in covered activities involving listed technologies and products in the AI development sector.\n\nDirects the President to submit annual congressional reports on notifications of covered activities and assessing the need for regulatory amendments.\n\nEncourages multilateral engagement to align with allied countries on similar mechanisms for prohibitions and notifications on technologies in the AI sector.\n\nAuthorizes $25 million for implementation and allows direct hiring to administer the entire Act.",
         "Strategies: Input controls: Compute circulation;Strategies: Input controls;Strategies: Disclosure;Strategies: Disclosure: About inputs;Strategies: Government support;Strategies: Government study or report;Incentives: Civil liability;Strategies: Government study or report;Strategies: Government support;Strategies: Input controls;Strategies: Input controls: Data use",
         "False",
         "2024-06-06",
         "https://www.congress.gov/bill/118th-congress/house-bill/7476/text#toc-H9ECD3593EFEC4D0C91FB287E828C57E0",
         "False",
         null,
         null,
         "11",
         "False",
         "False",
         "False",
         "False",
         "False",
         "False",
         "False",
         "False",
         "False",
         "False",
         "False",
         "False",
         "False",
         "False",
         "False",
         "False",
         "False",
         "False",
         "False",
         "False",
         "False",
         "False",
         "False",
         "False",
         "False",
         "False",
         "False",
         "False",
         "True",
         "False",
         "False",
         "False",
         "False",
         "False",
         "False",
         "False",
         "False",
         "False",
         "False",
         "False",
         "False",
         "False",
         "False",
         "False",
         "True",
         "False",
         "False",
         "True",
         "False",
         "False",
         "False",
         "False",
         "False",
         "False",
         "False",
         "False",
         "False",
         "False",
         "True",
         "True",
         "False",
         "False",
         "True",
         "True",
         "False",
         "False",
         "True",
         "False",
         "False",
         "False",
         "False",
         "False",
         "False",
         "False",
         "False",
         "False",
         "False"
        ],
        [
         "825",
         "759",
         "AI Safety Summit - Enhancing Frontier AI Safety (Amazon)",
         "AI Safety Summit - Enhancing Frontier AI Safety (Amazon)",
         "https://aws.amazon.com/uki/cloud-services/uk-gov-ai-safety-summit/",
         "Private-sector companies",
         "Corporate policies and commitments",
         "Enacted",
         "2023-10-01",
         "2023-10-01",
         "False",
         "False",
         "False",
         "False",
         "Describes Amazon's AI initiatives, emphasizing AWS's role in providing AI services, including model evaluation and risk assessments. Outlines security measures, responsible AI documentation, and vulnerability reporting for AI products. Highlights Amazon's research, partnerships, and policies to address societal AI risks, privacy, and bias.",
         "Facilitates AI development and deployment through Amazon Web Services (AWS), offering a comprehensive suite of AI and ML services, including Amazon Bedrock and Amazon Titan Foundation Models, which support generative AI applications.\n\nImplements risk management and safety protocols, including systematic model evaluation, red teaming, and ongoing security assessments, to mitigate potential AI risks.\n\nProtects AI models and data using robust logical and physical security measures, such as encryption, access controls, and least privilege principles.\n\nShares AI service information transparently through AI Service Cards, detailing intended use cases, limitations, and responsible AI design considerations.\n\nEncourages responsible AI use and prohibits misuse through the AWS Responsible AI Policy, which addresses concerns like disinformation and privacy violations.\n\nInvests in research and academic partnerships to advance responsible AI practices and develop tools for bias mitigation and human oversight.\n\nMonitors AI misuse post-release, employing classifier guardrails and automated abuse detection to identify and address harmful content and misuse patterns.",
         null,
         "True",
         "2024-09-15",
         "https://aws.amazon.com/uki/cloud-services/uk-gov-ai-safety-summit/",
         "False",
         null,
         null,
         "10",
         "False",
         "False",
         "False",
         "False",
         "False",
         "False",
         "False",
         "False",
         "False",
         "False",
         "False",
         "False",
         "False",
         "False",
         "False",
         "False",
         "False",
         "False",
         "False",
         "False",
         "False",
         "False",
         "False",
         "False",
         "False",
         "False",
         "False",
         "False",
         "False",
         "False",
         "False",
         "False",
         "False",
         "False",
         "False",
         "False",
         "False",
         "False",
         "False",
         "False",
         "False",
         "False",
         "False",
         "False",
         "False",
         "False",
         "False",
         "False",
         "False",
         "False",
         "False",
         "False",
         "False",
         "False",
         "False",
         "False",
         "False",
         "False",
         "False",
         "False",
         "False",
         "False",
         "False",
         "False",
         "False",
         "False",
         "False",
         "False",
         "False",
         "False",
         "False",
         "False",
         "False",
         "False",
         "False",
         "False",
         "False"
        ],
        [
         "14",
         "1553",
         "California Senate Bill 1120 (2024)",
         "California SB 1120 (Health care coverage: utilization review) (2024)",
         "https://leginfo.legislature.ca.gov/faces/billNavClient.xhtml?bill_id=202320240SB1120",
         "California",
         "U.S. state and local documents",
         "Enacted",
         "2024-09-30",
         "2024-09-30",
         "True",
         "False",
         "False",
         "True",
         "Requires health care service plans and disability insurers using AI for utilization review to ensure compliance with clinical criteria, non-discrimination, transparency, and auditability. Prohibits AI from replacing provider decision-making or denying services based on medical necessity.",
         "Mandates health care service plans and disability insurers using AI for utilization review or management to comply with specific regulations.\n\nRequires AI tools to base decisions on individual clinical data and prohibits reliance solely on group datasets.\n\nProhibits AI tools from denying, delaying, or modifying health care services based on medical necessity; such determinations must be made by licensed professionals.\n\nEnsures AI tools do not replace human decision-making or discriminate against enrollees.\n\nRequires AI tools' criteria to comply with state and federal laws and be open for audits.\n\nMandates regular review and revision of AI tools for accuracy and reliability.\n\nProhibits misuse of patient data beyond intended purposes, in line with privacy laws.\n\nStipulates that AI use should not harm enrollees and requires disclosure of AI usage policies.",
         "Strategies: Evaluation;Strategies: Evaluation: Post-market monitoring;Strategies: Evaluation: Impact assessment;Risk factors: Bias;Risk factors: Reliability;Risk factors: Interpretability and explainability;Risk factors: Privacy;Risk factors: Safety;Harms: Harm to health/safety;Harms: Violation of civil or human rights, including privacy;Applications: Medicine, life sciences and public health;Risk factors: Transparency;Strategies: Disclosure;Strategies: Disclosure: In deployment;Applications: Government: benefits and welfare;Harms: Discrimination;Strategies: Performance requirements;Applications: Medicine, life sciences and public health;Harms: Harm to health/safety;Strategies: Performance requirements;Strategies: Government study or report;Applications: Government: benefits and welfare;Harms: Harm to health/safety;Strategies: Evaluation;Risk factors: Transparency;Strategies: Disclosure;Strategies: Disclosure: In deployment;Applications: Medicine, life sciences and public health;Harms: Discrimination;Harms: Violation of civil or human rights, including privacy;Risk factors: Reliability;Harms: Harm to health/safety;Strategies: Government study or report;Strategies: Performance requirements",
         "False",
         "2024-11-17",
         "https://leginfo.legislature.ca.gov/faces/billNavClient.xhtml?bill_id=202320240SB1120",
         "False",
         null,
         null,
         "14",
         "False",
         "False",
         "False",
         "False",
         "False",
         "False",
         "False",
         "False",
         "False",
         "True",
         "False",
         "False",
         "False",
         "False",
         "True",
         "False",
         "False",
         "False",
         "False",
         "False",
         "True",
         "False",
         "False",
         "True",
         "False",
         "False",
         "True",
         "False",
         "False",
         "False",
         "False",
         "False",
         "False",
         "True",
         "True",
         "True",
         "True",
         "False",
         "True",
         "False",
         "False",
         "False",
         "True",
         "False",
         "True",
         "False",
         "False",
         "False",
         "False",
         "True",
         "False",
         "True",
         "False",
         "False",
         "False",
         "True",
         "True",
         "False",
         "True",
         "False",
         "False",
         "False",
         "False",
         "False",
         "False",
         "False",
         "False",
         "False",
         "False",
         "True",
         "False",
         "False",
         "False",
         "False",
         "False",
         "False",
         "False"
        ]
       ],
       "shape": {
        "columns": 100,
        "rows": 5
       }
      },
      "text/html": [
       "<div>\n",
       "<style scoped>\n",
       "    .dataframe tbody tr th:only-of-type {\n",
       "        vertical-align: middle;\n",
       "    }\n",
       "\n",
       "    .dataframe tbody tr th {\n",
       "        vertical-align: top;\n",
       "    }\n",
       "\n",
       "    .dataframe thead th {\n",
       "        text-align: right;\n",
       "    }\n",
       "</style>\n",
       "<table border=\"1\" class=\"dataframe\">\n",
       "  <thead>\n",
       "    <tr style=\"text-align: right;\">\n",
       "      <th></th>\n",
       "      <th>AGORA ID</th>\n",
       "      <th>Official name</th>\n",
       "      <th>Casual name</th>\n",
       "      <th>Link to document</th>\n",
       "      <th>Authority</th>\n",
       "      <th>Collections</th>\n",
       "      <th>Most recent activity</th>\n",
       "      <th>Most recent activity date</th>\n",
       "      <th>Proposed date</th>\n",
       "      <th>Annotated?</th>\n",
       "      <th>...</th>\n",
       "      <th>Strategies: Licensing, registration, and certification</th>\n",
       "      <th>Strategies: New institution</th>\n",
       "      <th>Strategies: Performance requirements</th>\n",
       "      <th>Strategies: Pilots and testbeds</th>\n",
       "      <th>Strategies: Tiering</th>\n",
       "      <th>Strategies: Tiering: Tiering based on domain of application</th>\n",
       "      <th>Strategies: Tiering: Tiering based on generality</th>\n",
       "      <th>Strategies: Tiering: Tiering based on impact</th>\n",
       "      <th>Strategies: Tiering: Tiering based on inputs</th>\n",
       "      <th>Strategies: Tiering: Tiering based on planning ability</th>\n",
       "    </tr>\n",
       "  </thead>\n",
       "  <tbody>\n",
       "    <tr>\n",
       "      <th>228</th>\n",
       "      <td>374</td>\n",
       "      <td>New York A7838</td>\n",
       "      <td>New York A7838 (\"Long-term impact of AI on wor...</td>\n",
       "      <td>https://www.nysenate.gov/legislation/bills/202...</td>\n",
       "      <td>New York</td>\n",
       "      <td>U.S. state and local documents</td>\n",
       "      <td>Proposed</td>\n",
       "      <td>2023-07-07</td>\n",
       "      <td>2023-07-07</td>\n",
       "      <td>True</td>\n",
       "      <td>...</td>\n",
       "      <td>False</td>\n",
       "      <td>False</td>\n",
       "      <td>False</td>\n",
       "      <td>False</td>\n",
       "      <td>False</td>\n",
       "      <td>False</td>\n",
       "      <td>False</td>\n",
       "      <td>False</td>\n",
       "      <td>False</td>\n",
       "      <td>False</td>\n",
       "    </tr>\n",
       "    <tr>\n",
       "      <th>444</th>\n",
       "      <td>1922</td>\n",
       "      <td>SCAM Platform Act</td>\n",
       "      <td>SCAM Platform Act</td>\n",
       "      <td>https://www.congress.gov/bill/118th-congress/h...</td>\n",
       "      <td>United States Congress</td>\n",
       "      <td>U.S. federal laws</td>\n",
       "      <td>Defunct</td>\n",
       "      <td>2025-01-03</td>\n",
       "      <td>2024-11-21</td>\n",
       "      <td>False</td>\n",
       "      <td>...</td>\n",
       "      <td>False</td>\n",
       "      <td>False</td>\n",
       "      <td>False</td>\n",
       "      <td>False</td>\n",
       "      <td>False</td>\n",
       "      <td>False</td>\n",
       "      <td>False</td>\n",
       "      <td>False</td>\n",
       "      <td>False</td>\n",
       "      <td>False</td>\n",
       "    </tr>\n",
       "    <tr>\n",
       "      <th>678</th>\n",
       "      <td>988</td>\n",
       "      <td>Countering Communist China Act, Title I (\"Matt...</td>\n",
       "      <td>Countering Communist China Act, Title I (\"Trad...</td>\n",
       "      <td>https://www.congress.gov/bill/118th-congress/h...</td>\n",
       "      <td>United States Congress</td>\n",
       "      <td>U.S. federal laws</td>\n",
       "      <td>Defunct</td>\n",
       "      <td>2025-01-03</td>\n",
       "      <td>2024-02-29</td>\n",
       "      <td>True</td>\n",
       "      <td>...</td>\n",
       "      <td>False</td>\n",
       "      <td>False</td>\n",
       "      <td>False</td>\n",
       "      <td>False</td>\n",
       "      <td>False</td>\n",
       "      <td>False</td>\n",
       "      <td>False</td>\n",
       "      <td>False</td>\n",
       "      <td>False</td>\n",
       "      <td>False</td>\n",
       "    </tr>\n",
       "    <tr>\n",
       "      <th>825</th>\n",
       "      <td>759</td>\n",
       "      <td>AI Safety Summit - Enhancing Frontier AI Safet...</td>\n",
       "      <td>AI Safety Summit - Enhancing Frontier AI Safet...</td>\n",
       "      <td>https://aws.amazon.com/uki/cloud-services/uk-g...</td>\n",
       "      <td>Private-sector companies</td>\n",
       "      <td>Corporate policies and commitments</td>\n",
       "      <td>Enacted</td>\n",
       "      <td>2023-10-01</td>\n",
       "      <td>2023-10-01</td>\n",
       "      <td>False</td>\n",
       "      <td>...</td>\n",
       "      <td>False</td>\n",
       "      <td>False</td>\n",
       "      <td>False</td>\n",
       "      <td>False</td>\n",
       "      <td>False</td>\n",
       "      <td>False</td>\n",
       "      <td>False</td>\n",
       "      <td>False</td>\n",
       "      <td>False</td>\n",
       "      <td>False</td>\n",
       "    </tr>\n",
       "    <tr>\n",
       "      <th>14</th>\n",
       "      <td>1553</td>\n",
       "      <td>California Senate Bill 1120 (2024)</td>\n",
       "      <td>California SB 1120 (Health care coverage: util...</td>\n",
       "      <td>https://leginfo.legislature.ca.gov/faces/billN...</td>\n",
       "      <td>California</td>\n",
       "      <td>U.S. state and local documents</td>\n",
       "      <td>Enacted</td>\n",
       "      <td>2024-09-30</td>\n",
       "      <td>2024-09-30</td>\n",
       "      <td>True</td>\n",
       "      <td>...</td>\n",
       "      <td>False</td>\n",
       "      <td>False</td>\n",
       "      <td>True</td>\n",
       "      <td>False</td>\n",
       "      <td>False</td>\n",
       "      <td>False</td>\n",
       "      <td>False</td>\n",
       "      <td>False</td>\n",
       "      <td>False</td>\n",
       "      <td>False</td>\n",
       "    </tr>\n",
       "  </tbody>\n",
       "</table>\n",
       "<p>5 rows × 100 columns</p>\n",
       "</div>"
      ],
      "text/plain": [
       "     AGORA ID                                      Official name  \\\n",
       "228       374                                     New York A7838   \n",
       "444      1922                                  SCAM Platform Act   \n",
       "678       988  Countering Communist China Act, Title I (\"Matt...   \n",
       "825       759  AI Safety Summit - Enhancing Frontier AI Safet...   \n",
       "14       1553                 California Senate Bill 1120 (2024)   \n",
       "\n",
       "                                           Casual name  \\\n",
       "228  New York A7838 (\"Long-term impact of AI on wor...   \n",
       "444                                  SCAM Platform Act   \n",
       "678  Countering Communist China Act, Title I (\"Trad...   \n",
       "825  AI Safety Summit - Enhancing Frontier AI Safet...   \n",
       "14   California SB 1120 (Health care coverage: util...   \n",
       "\n",
       "                                      Link to document  \\\n",
       "228  https://www.nysenate.gov/legislation/bills/202...   \n",
       "444  https://www.congress.gov/bill/118th-congress/h...   \n",
       "678  https://www.congress.gov/bill/118th-congress/h...   \n",
       "825  https://aws.amazon.com/uki/cloud-services/uk-g...   \n",
       "14   https://leginfo.legislature.ca.gov/faces/billN...   \n",
       "\n",
       "                    Authority                         Collections  \\\n",
       "228                  New York      U.S. state and local documents   \n",
       "444    United States Congress                   U.S. federal laws   \n",
       "678    United States Congress                   U.S. federal laws   \n",
       "825  Private-sector companies  Corporate policies and commitments   \n",
       "14                 California      U.S. state and local documents   \n",
       "\n",
       "    Most recent activity Most recent activity date Proposed date  Annotated?  \\\n",
       "228             Proposed                2023-07-07    2023-07-07        True   \n",
       "444              Defunct                2025-01-03    2024-11-21       False   \n",
       "678              Defunct                2025-01-03    2024-02-29        True   \n",
       "825              Enacted                2023-10-01    2023-10-01       False   \n",
       "14               Enacted                2024-09-30    2024-09-30        True   \n",
       "\n",
       "     ...  Strategies: Licensing, registration, and certification  \\\n",
       "228  ...                                              False        \n",
       "444  ...                                              False        \n",
       "678  ...                                              False        \n",
       "825  ...                                              False        \n",
       "14   ...                                              False        \n",
       "\n",
       "     Strategies: New institution  Strategies: Performance requirements  \\\n",
       "228                        False                                 False   \n",
       "444                        False                                 False   \n",
       "678                        False                                 False   \n",
       "825                        False                                 False   \n",
       "14                         False                                  True   \n",
       "\n",
       "    Strategies: Pilots and testbeds Strategies: Tiering  \\\n",
       "228                           False               False   \n",
       "444                           False               False   \n",
       "678                           False               False   \n",
       "825                           False               False   \n",
       "14                            False               False   \n",
       "\n",
       "    Strategies: Tiering: Tiering based on domain of application  \\\n",
       "228                                              False            \n",
       "444                                              False            \n",
       "678                                              False            \n",
       "825                                              False            \n",
       "14                                               False            \n",
       "\n",
       "     Strategies: Tiering: Tiering based on generality  \\\n",
       "228                                             False   \n",
       "444                                             False   \n",
       "678                                             False   \n",
       "825                                             False   \n",
       "14                                              False   \n",
       "\n",
       "    Strategies: Tiering: Tiering based on impact  \\\n",
       "228                                        False   \n",
       "444                                        False   \n",
       "678                                        False   \n",
       "825                                        False   \n",
       "14                                         False   \n",
       "\n",
       "    Strategies: Tiering: Tiering based on inputs  \\\n",
       "228                                        False   \n",
       "444                                        False   \n",
       "678                                        False   \n",
       "825                                        False   \n",
       "14                                         False   \n",
       "\n",
       "     Strategies: Tiering: Tiering based on planning ability  \n",
       "228                                              False       \n",
       "444                                              False       \n",
       "678                                              False       \n",
       "825                                              False       \n",
       "14                                               False       \n",
       "\n",
       "[5 rows x 100 columns]"
      ]
     },
     "execution_count": 4,
     "metadata": {},
     "output_type": "execute_result"
    }
   ],
   "source": [
    "docs_df = pd.read_csv(\"./data/documents.csv\")\n",
    "docs_df.sample(5)"
   ]
  },
  {
   "cell_type": "code",
   "execution_count": 5,
   "metadata": {},
   "outputs": [
    {
     "data": {
      "application/vnd.microsoft.datawrangler.viewer.v0+json": {
       "columns": [
        {
         "name": "index",
         "rawType": "object",
         "type": "string"
        },
        {
         "name": "0",
         "rawType": "float64",
         "type": "float"
        }
       ],
       "ref": "514814e6-3632-4269-adc8-365ce3e873bf",
       "rows": [
        [
         "Authority",
         "0.0"
        ],
        [
         "Collections",
         "0.002103049421661409"
        ],
        [
         "Tags",
         "0.555205047318612"
        ]
       ],
       "shape": {
        "columns": 1,
        "rows": 3
       }
      },
      "text/plain": [
       "Authority      0.000000\n",
       "Collections    0.002103\n",
       "Tags           0.555205\n",
       "dtype: float64"
      ]
     },
     "execution_count": 5,
     "metadata": {},
     "output_type": "execute_result"
    }
   ],
   "source": [
    "# check for proportion of NA in Authority, Collections, Tags\n",
    "docs_df[['Authority', 'Collections', 'Tags']].isna().sum() /len(docs_df)"
   ]
  },
  {
   "cell_type": "code",
   "execution_count": 6,
   "metadata": {},
   "outputs": [
    {
     "data": {
      "application/vnd.microsoft.datawrangler.viewer.v0+json": {
       "columns": [
        {
         "name": "index",
         "rawType": "int64",
         "type": "integer"
        },
        {
         "name": "Tags",
         "rawType": "object",
         "type": "string"
        }
       ],
       "ref": "34fad9aa-373d-4f20-960e-cf3c8216c856",
       "rows": [
        [
         "298",
         "Strategies: Government study or report;Strategies: Government support: For R&D;Strategies: Government support: AI workforce-related;Applications: Security;Applications: Government: military and public safety"
        ],
        [
         "283",
         "Strategies: Disclosure;Strategies: Disclosure: In deployment;Strategies: Performance requirements;Strategies: Licensing, registration, and certification;Applications: Arts, sports, leisure, travel, and lifestyle"
        ],
        [
         "541",
         "Risk factors: Transparency;Strategies: Disclosure;Strategies: Governance development;Strategies: Disclosure: About inputs;Risk factors: Transparency;Strategies: Convening;Strategies: Disclosure;Strategies: Disclosure: About evaluation;Strategies: Disclosure: About inputs;Strategies: Disclosure: In standard form;Strategies: Governance development;Strategies: Government support;Incentives: Civil liability;Risk factors: Safety;Risk factors: Security;Risk factors: Security: Cybersecurity"
        ],
        [
         "0",
         "Strategies: Government support;Risk factors: Security;Risk factors: Security: Cybersecurity;Risk factors: Reliability;Applications: Government: other applications/unspecified;Strategies: Tiering"
        ],
        [
         "562",
         "Harms: Detrimental content;Risk factors: Reliability;Applications: Broadcasting and media production;Harms: Detrimental content;Applications: Government: other applications/unspecified;Applications: Broadcasting and media production;Incentives: Civil liability;Incentives: Fines"
        ],
        [
         "547",
         "Risk factors: Reliability;Strategies: Evaluation;Strategies: Evaluation: Conformity assessment;Strategies: Governance development;Applications: Agriculture and resource extraction"
        ],
        [
         "757",
         "Strategies: Input controls;Strategies: Input controls: Data circulation;Applications: Broadcasting and media production"
        ],
        [
         "859",
         "Risk factors: Safety;Risk factors: Transparency;Harms: Harm to health/safety;Strategies: Evaluation;Strategies: Evaluation: Post-market monitoring;Strategies: Disclosure;Strategies: Disclosure: In deployment;Strategies: Licensing, registration, and certification;Applications: Medicine, life sciences and public health"
        ],
        [
         "267",
         "Strategies: Government study or report;Strategies: Government support;Strategies: Government support: AI workforce-related;Applications: Government: military and public safety"
        ],
        [
         "331",
         "Risk factors: Security: Cybersecurity;Strategies: Evaluation;Strategies: Evaluation: Impact assessment;Strategies: Evaluation: Conformity assessment;Strategies: Government study or report;Strategies: Pilots and testbeds;Strategies: Convening;Strategies: Performance requirements;Applications: Government: military and public safety"
        ]
       ],
       "shape": {
        "columns": 1,
        "rows": 10
       }
      },
      "text/plain": [
       "298    Strategies: Government study or report;Strateg...\n",
       "283    Strategies: Disclosure;Strategies: Disclosure:...\n",
       "541    Risk factors: Transparency;Strategies: Disclos...\n",
       "0      Strategies: Government support;Risk factors: S...\n",
       "562    Harms: Detrimental content;Risk factors: Relia...\n",
       "547    Risk factors: Reliability;Strategies: Evaluati...\n",
       "757    Strategies: Input controls;Strategies: Input c...\n",
       "859    Risk factors: Safety;Risk factors: Transparenc...\n",
       "267    Strategies: Government study or report;Strateg...\n",
       "331    Risk factors: Security: Cybersecurity;Strategi...\n",
       "Name: Tags, dtype: object"
      ]
     },
     "execution_count": 6,
     "metadata": {},
     "output_type": "execute_result"
    }
   ],
   "source": [
    "# about 55 % of the tags are missing; \n",
    "docs_df.loc[docs_df.Tags.notna(), 'Tags'].sample(10)"
   ]
  },
  {
   "cell_type": "code",
   "execution_count": 8,
   "metadata": {},
   "outputs": [
    {
     "data": {
      "text/plain": [
       "np.int64(0)"
      ]
     },
     "execution_count": 8,
     "metadata": {},
     "output_type": "execute_result"
    }
   ],
   "source": [
    "# when Tags is empty are all the subsequent field false ? Yes\n",
    "# so Tags 55 % of the tags are missing and the individual fields are marked as False.\n",
    "docs_df.loc[docs_df.Tags.isna(), docs_df.columns[23:]].sum().sum()"
   ]
  },
  {
   "cell_type": "code",
   "execution_count": 7,
   "metadata": {},
   "outputs": [
    {
     "data": {
      "text/plain": [
       "array([4])"
      ]
     },
     "execution_count": 7,
     "metadata": {},
     "output_type": "execute_result"
    }
   ],
   "source": [
    "docs_df[['Long summary']].isna().sum().values"
   ]
  },
  {
   "cell_type": "code",
   "execution_count": 19,
   "metadata": {},
   "outputs": [],
   "source": [
    "with open('long_summaries.txt', 'w') as w:\n",
    "    arr = docs_df[['Long summary']].sample(100).values\n",
    "    for i, a in enumerate(arr):\n",
    "        w.write(f'{i + 1}. {a[0]}\\n')\n",
    "        w.write('\\n\\n# --------------------------------------------------------------------- #\\n\\n')\n",
    "\n",
    "# with open('20_short_summaries.txt', 'w') as w:\n",
    "#     arr = docs_df[['Short summary']].head(20).values\n",
    "#     for i, a in enumerate(arr):\n",
    "#         w.write(f'{i + 1}. {a[0]}\\n')\n",
    "#         w.write('\\n\\n# --------------------------------------------------------------------- #\\n\\n')"
   ]
  },
  {
   "cell_type": "code",
   "execution_count": 17,
   "metadata": {},
   "outputs": [
    {
     "name": "stdout",
     "output_type": "stream",
     "text": [
      "Appropriates $500 million to the Department of Commerce for FY 2025 to modernize federal IT systems using AI and automation technologies.\n",
      "\n",
      "Authorizes the Secretary of Commerce to use funds to replace legacy systems, adopt efficient AI models, and enhance cybersecurity with AI solutions.\n",
      "\n",
      "Enacts a 10-year moratorium preventing state and local governments from regulating AI models or systems.\n",
      "\n",
      "Exempts laws facilitating AI deployment or removing legal barriers, provided they do not impose additional requirements unless federally mandated or generally applicable.\n",
      "[('$500 million', 'MONEY'), ('the Department of Commerce for', 'ORG'), ('2025', 'DATE'), ('AI', 'GPE'), ('Commerce', 'ORG'), ('AI', 'ORG'), ('AI', 'GPE'), ('10-year', 'DATE'), ('AI', 'ORG')]\n",
      "\n",
      "\n",
      "\n",
      "Orders California's Government Operations Agency and related entities to draft a report for the Governor within 60 days on beneficial uses and risks of Generative AI (GenAI) by the state.\n",
      "\n",
      "Requires the California Cybersecurity Integration Center and related bodies to perform a risk analysis by March 2024 on GenAI threats to energy infrastructure, brief the Governor on findings, and make public recommendations for actions to guard against GenAI threats when appropriate. \n",
      "\n",
      "Directs various California departments to issue procurement and training guidelines for GenAI by January 2024.\n",
      "\n",
      "Instructs relevant agencies to develop guidelines by July 2024 for using GenAI tools with vulnerable communities.\n",
      "\n",
      "Mandates establishment of GenAI pilot project infrastructure by March 2024.\n",
      "\n",
      "Urges the Governor's Office to partner with UC Berkeley and Stanford to evaluate GenAI's impact.\n",
      "\n",
      "Tasks legal counsel to assess GenAI's regulatory impact and recommend updates.\n",
      "\n",
      "Emphasizes collaboration with civil society, academia, and industry experts in drafting guidelines and conducting analyses.\n",
      "[(\"Orders California's Government Operations Agency\", 'ORG'), ('60 days', 'DATE'), ('the California Cybersecurity Integration Center', 'ORG'), ('March 2024', 'DATE'), ('California', 'GPE'), ('GenAI', 'ORG'), ('January 2024', 'DATE'), ('July 2024', 'DATE'), ('March 2024', 'DATE'), ('UC Berkeley', 'ORG'), ('Stanford', 'ORG'), ('GenAI', 'ORG'), ('GenAI', 'ORG')]\n",
      "\n",
      "\n",
      "\n",
      "Requires the Superintendent of Public Instruction to form a working group to address artificial intelligence in public schools.\n",
      "\n",
      "Requires the working group to develop guidance and a model policy for safe AI use in education by January 1, 2026.\n",
      "\n",
      "Instructs the working group to create a model policy by July 1, 2026, for the safe and beneficial use of AI that does not negatively impact students or educators.\n",
      "\n",
      "Mandates that the working group consist of certain stakeholders, including public school teachers and schoolsite administrators.\n",
      "\n",
      "Calls the working group to assess AI use in education, including technologies in use, costs, and impacts on educators, and to detail current uses of artificial intelligence in educational settings.\n",
      "\n",
      "Requires the working group to conduct at least three public meetings for stakeholder feedback.\n",
      "\n",
      "Requires the working group to identify other ways in which the state can promote effective practices that minimize risk and maximize benefits to pupils and educators, including establishing communities of practice on the use of artificial intelligence in education.\n",
      "\n",
      "Obliges the group to report findings and recommendations to the Legislature by January 1, 2027.\n",
      "\n",
      "Dissolves the working group upon report submission and repeals provisions by January 1, 2031.\n",
      "[('the Superintendent of Public Instruction', 'ORG'), ('January 1, 2026', 'DATE'), ('July 1, 2026', 'DATE'), ('AI', 'GPE'), ('AI', 'GPE'), ('at least three', 'CARDINAL'), ('Legislature', 'ORG'), ('January 1, 2027', 'DATE'), ('January 1, 2031', 'DATE')]\n",
      "\n",
      "\n",
      "\n",
      "Require public transit employers in California to notify the exclusive employee representative at least 10 months before starting a procurement process for autonomous transit vehicle technology that could eliminate jobs.\n",
      "\n",
      "Mandate collective bargaining within 30 days upon notification or within 10 days of the public transit employer receiving a written request from the exclusive employee representative, focusing on developing and implementing the autonomous transit technology, creating transition plans for affected workers, and preparing them for new roles.\n",
      "\n",
      "Ensure that this chapter does not impose any labor requirements that are less protective than existing statutory or contractual obligations.\n",
      "\n",
      "Grant the Public Employment Relations Board jurisdiction to handle unfair practice charges related to this chapter.\n",
      "\n",
      "Authorize the board to establish, amend, or repeal regulations necessary to implement the chapter, including emergency regulations for the immediate preservation of public welfare.\n",
      "[('California', 'GPE'), ('at least 10 months', 'DATE'), ('30 days', 'DATE'), ('10 days', 'DATE'), ('Grant the Public Employment Relations Board', 'ORG')]\n",
      "\n",
      "\n",
      "\n",
      "Urges the President and Congress to develop a comprehensive Artificial Intelligence Advisory Committee.\n",
      "\n",
      "Urges the adoption of a comprehensive artificial intelligence policy.\n",
      "\n",
      "Highlights the importance of federal government planning for workforce changes due to AI.\n",
      "\n",
      "Emphasizes the need for ethical standards in AI development and employment.\n",
      "\n",
      "Encourages promoting innovation to help American companies grow.\n",
      "\n",
      "Notes that California has attracted significant global AI investment.\n",
      "\n",
      "Calls for bridging the gap between technological change and regulatory response.\n",
      "\n",
      "Directs transmission of the resolution to key federal officials and California representatives.\n",
      "[('Congress', 'ORG'), ('Artificial Intelligence Advisory Committee', 'ORG'), ('AI', 'GPE'), ('AI', 'GPE'), ('American', 'NORP'), ('California', 'GPE'), ('AI', 'GPE'), ('California', 'GPE')]\n",
      "\n",
      "\n",
      "\n"
     ]
    }
   ],
   "source": [
    "n_samples = 5\n",
    "summaries = docs_df[['Long summary']].head(n_samples).values.reshape(5, )\n",
    "for summary in summaries:\n",
    "    doc = nlp(summary)\n",
    "    print(summary)\n",
    "    entities = [(ent.text, ent.label_) for ent in doc.ents]\n",
    "    print(entities)\n",
    "    print('\\n\\n')"
   ]
  },
  {
   "cell_type": "code",
   "execution_count": null,
   "metadata": {},
   "outputs": [],
   "source": []
  },
  {
   "cell_type": "code",
   "execution_count": null,
   "metadata": {},
   "outputs": [],
   "source": []
  },
  {
   "cell_type": "code",
   "execution_count": null,
   "metadata": {},
   "outputs": [],
   "source": []
  },
  {
   "cell_type": "code",
   "execution_count": null,
   "metadata": {},
   "outputs": [],
   "source": []
  },
  {
   "cell_type": "code",
   "execution_count": null,
   "metadata": {},
   "outputs": [],
   "source": []
  },
  {
   "cell_type": "code",
   "execution_count": null,
   "metadata": {},
   "outputs": [],
   "source": []
  },
  {
   "cell_type": "code",
   "execution_count": null,
   "metadata": {},
   "outputs": [],
   "source": []
  },
  {
   "cell_type": "code",
   "execution_count": null,
   "metadata": {},
   "outputs": [],
   "source": []
  },
  {
   "cell_type": "code",
   "execution_count": null,
   "metadata": {},
   "outputs": [],
   "source": []
  },
  {
   "cell_type": "code",
   "execution_count": null,
   "metadata": {},
   "outputs": [],
   "source": []
  },
  {
   "cell_type": "code",
   "execution_count": null,
   "metadata": {},
   "outputs": [],
   "source": []
  },
  {
   "cell_type": "code",
   "execution_count": null,
   "metadata": {},
   "outputs": [],
   "source": []
  },
  {
   "cell_type": "code",
   "execution_count": null,
   "metadata": {},
   "outputs": [],
   "source": []
  },
  {
   "cell_type": "code",
   "execution_count": null,
   "metadata": {},
   "outputs": [],
   "source": []
  },
  {
   "cell_type": "code",
   "execution_count": null,
   "metadata": {},
   "outputs": [],
   "source": []
  },
  {
   "cell_type": "code",
   "execution_count": null,
   "metadata": {},
   "outputs": [],
   "source": []
  },
  {
   "cell_type": "code",
   "execution_count": null,
   "metadata": {},
   "outputs": [],
   "source": []
  },
  {
   "cell_type": "code",
   "execution_count": null,
   "metadata": {},
   "outputs": [],
   "source": []
  }
 ],
 "metadata": {
  "kernelspec": {
   "display_name": "agora-knowledge-graph",
   "language": "python",
   "name": "python3"
  },
  "language_info": {
   "codemirror_mode": {
    "name": "ipython",
    "version": 3
   },
   "file_extension": ".py",
   "mimetype": "text/x-python",
   "name": "python",
   "nbconvert_exporter": "python",
   "pygments_lexer": "ipython3",
   "version": "3.10.3"
  }
 },
 "nbformat": 4,
 "nbformat_minor": 2
}
